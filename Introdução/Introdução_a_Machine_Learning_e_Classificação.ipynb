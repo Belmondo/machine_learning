{
  "nbformat": 4,
  "nbformat_minor": 0,
  "metadata": {
    "colab": {
      "provenance": []
    },
    "kernelspec": {
      "name": "python3",
      "display_name": "Python 3"
    },
    "language_info": {
      "name": "python"
    }
  },
  "cells": [
    {
      "cell_type": "code",
      "execution_count": null,
      "metadata": {
        "colab": {
          "base_uri": "https://localhost:8080/"
        },
        "id": "ieIDfeJQfYGc",
        "outputId": "6c92e11d-cf00-4f31-a60d-bb5e90a87b4f"
      },
      "outputs": [
        {
          "output_type": "stream",
          "name": "stdout",
          "text": [
            "Taxa de acerto 66.66666666666666\n",
            "Taxa de acertos 66.66666666666666\n"
          ]
        }
      ],
      "source": [
        "#features (1 - Sim e 2 - Não)\n",
        "#pelo longo?\n",
        "#perna longa?\n",
        "#late?\n",
        "\n",
        "#classes\n",
        "porco1 = [0,1,0]\n",
        "porco2 = [0,1,1]\n",
        "porco3 = [1,1,0]\n",
        "\n",
        "cachorro1 = [0,1,1]\n",
        "cachorro2 = [1,0,1]\n",
        "cachorro3 = [1,1,1]\n",
        "\n",
        "#1 porco e 0 cachorro\n",
        "#conjunto de features ou dados\n",
        "treino_x = [porco1, porco2, porco3,cachorro1, cachorro2, cachorro3]\n",
        "#determinando as classesm\n",
        "treino_y = [1,1,1,0,0,0] #labels\n",
        "\n",
        "from sklearn.svm import LinearSVC\n",
        "#aprendizado supervisionado\n",
        "modelo = LinearSVC()\n",
        "#aprendendo\n",
        "modelo.fit(treino_x, treino_y)\n",
        "\n",
        "animalMisterioso = [1,1,1]\n",
        "#predizendo\n",
        "modelo.predict([animalMisterioso])\n",
        "\n",
        "#brincando com o modelo\n",
        "misterio1=[1,1,1]\n",
        "misterio2=[1,1,0]\n",
        "misterio3=[0,1,1]\n",
        "\n",
        "teste_x = [misterio1, misterio2, misterio3]\n",
        "teste_y = [0,1,1]\n",
        "previsoes = modelo.predict(teste_x)\n",
        "\n",
        "\n",
        "\n",
        "#Primeiro método de acurácia\n",
        "corretos = (previsoes == teste_y).sum()\n",
        "total = len(teste_x)\n",
        "taxa_de_acertos = corretos/total\n",
        "print(\"Taxa de acerto\", taxa_de_acertos*100)\n",
        "\n",
        "#Segundo Método de acurácia\n",
        "from sklearn.metrics import accuracy_score\n",
        "taxa_de_acertos = accuracy_score(teste_y, previsoes)\n",
        "print(\"Taxa de acertos\", taxa_de_acertos*100)"
      ]
    },
    {
      "cell_type": "code",
      "source": [],
      "metadata": {
        "id": "wVaDdPHchZKe"
      },
      "execution_count": null,
      "outputs": []
    }
  ]
}